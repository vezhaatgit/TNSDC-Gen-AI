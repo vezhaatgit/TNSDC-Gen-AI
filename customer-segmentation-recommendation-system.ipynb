{
 "cells": [
  {
   "cell_type": "code",
   "execution_count": 1,
   "id": "88c0d4f2",
   "metadata": {
    "execution": {
     "iopub.execute_input": "2023-09-13T18:55:30.045883Z",
     "iopub.status.busy": "2023-09-13T18:55:30.045468Z",
     "iopub.status.idle": "2023-09-13T18:55:33.701518Z",
     "shell.execute_reply": "2023-09-13T18:55:33.699161Z"
    },
    "papermill": {
     "duration": 3.71761,
     "end_time": "2023-09-13T18:55:33.705058",
     "exception": false,
     "start_time": "2023-09-13T18:55:29.987448",
     "status": "completed"
    },
    "tags": []
   },
   "outputs": [],
   "source": [
    "# Ignore warnings\n",
    "import warnings\n",
    "warnings.filterwarnings('ignore')\n",
    "\n",
    "import numpy as np\n",
    "import pandas as pd\n",
    "import seaborn as sns\n",
    "import matplotlib.pyplot as plt\n",
    "import matplotlib.gridspec as gridspec\n",
    "import plotly.graph_objects as go\n",
    "from matplotlib.colors import LinearSegmentedColormap\n",
    "from matplotlib import colors as mcolors\n",
    "from scipy.stats import linregress\n",
    "from sklearn.ensemble import IsolationForest\n",
    "from sklearn.preprocessing import StandardScaler\n",
    "from sklearn.decomposition import PCA\n",
    "from yellowbrick.cluster import KElbowVisualizer, SilhouetteVisualizer\n",
    "from sklearn.metrics import silhouette_score, calinski_harabasz_score, davies_bouldin_score\n",
    "from sklearn.cluster import KMeans\n",
    "from tabulate import tabulate\n",
    "from collections import Counter\n",
    "\n",
    "%matplotlib inline"
   ]
  },
  {
   "cell_type": "code",
   "execution_count": 2,
   "id": "6f2a57e4",
   "metadata": {
    "execution": {
     "iopub.execute_input": "2023-09-13T18:55:33.835541Z",
     "iopub.status.busy": "2023-09-13T18:55:33.834798Z",
     "iopub.status.idle": "2023-09-13T18:55:34.101961Z",
     "shell.execute_reply": "2023-09-13T18:55:34.100644Z"
    },
    "papermill": {
     "duration": 0.326571,
     "end_time": "2023-09-13T18:55:34.104602",
     "exception": false,
     "start_time": "2023-09-13T18:55:33.778031",
     "status": "completed"
    },
    "tags": []
   },
   "outputs": [
    {
     "data": {
      "text/html": [
       "        <script type=\"text/javascript\">\n",
       "        window.PlotlyConfig = {MathJaxConfig: 'local'};\n",
       "        if (window.MathJax && window.MathJax.Hub && window.MathJax.Hub.Config) {window.MathJax.Hub.Config({SVG: {font: \"STIX-Web\"}});}\n",
       "        if (typeof require !== 'undefined') {\n",
       "        require.undef(\"plotly\");\n",
       "        requirejs.config({\n",
       "            paths: {\n",
       "                'plotly': ['https://cdn.plot.ly/plotly-2.24.1.min']\n",
       "            }\n",
       "        });\n",
       "        require(['plotly'], function(Plotly) {\n",
       "            window._Plotly = Plotly;\n",
       "        });\n",
       "        }\n",
       "        </script>\n",
       "        "
      ]
     },
     "metadata": {},
     "output_type": "display_data"
    }
   ],
   "source": [
    "# Initialize Plotly for use in the notebook\n",
    "from plotly.offline import init_notebook_mode\n",
    "init_notebook_mode(connected=True)"
   ]
  },
  {
   "cell_type": "code",
   "execution_count": 3,
   "id": "e7f647ef",
   "metadata": {
    "execution": {
     "iopub.execute_input": "2023-09-13T18:55:34.218004Z",
     "iopub.status.busy": "2023-09-13T18:55:34.216856Z",
     "iopub.status.idle": "2023-09-13T18:55:34.223459Z",
     "shell.execute_reply": "2023-09-13T18:55:34.222527Z"
    },
    "papermill": {
     "duration": 0.065754,
     "end_time": "2023-09-13T18:55:34.225966",
     "exception": false,
     "start_time": "2023-09-13T18:55:34.160212",
     "status": "completed"
    },
    "tags": []
   },
   "outputs": [],
   "source": [
    "# Configure Seaborn plot styles: Set background color and use dark grid\n",
    "sns.set(rc={'axes.facecolor': '#fcf0dc'}, style='darkgrid')"
   ]
  },
  {
   "cell_type": "code",
   "execution_count": 4,
   "id": "baaa0be4",
   "metadata": {
    "execution": {
     "iopub.execute_input": "2023-09-13T18:55:34.563857Z",
     "iopub.status.busy": "2023-09-13T18:55:34.562725Z",
     "iopub.status.idle": "2023-09-13T18:55:36.314527Z",
     "shell.execute_reply": "2023-09-13T18:55:36.312902Z"
    },
    "papermill": {
     "duration": 1.815595,
     "end_time": "2023-09-13T18:55:36.317782",
     "exception": false,
     "start_time": "2023-09-13T18:55:34.502187",
     "status": "completed"
    },
    "tags": []
   },
   "outputs": [],
   "source": [
    "df = pd.read_csv('/kaggle/input/ecommerce-data/data.csv', encoding=\"ISO-8859-1\")"
   ]
  },
  {
   "cell_type": "code",
   "execution_count": null,
   "id": "4cec4265",
   "metadata": {
    "execution": {
     "iopub.execute_input": "2023-09-13T18:55:36.990952Z",
     "iopub.status.busy": "2023-09-13T18:55:36.990507Z",
     "iopub.status.idle": "2023-09-13T18:55:37.028503Z",
     "shell.execute_reply": "2023-09-13T18:55:37.026858Z"
    },
    "papermill": {
     "duration": 0.098838,
     "end_time": "2023-09-13T18:55:37.031877",
     "exception": false,
     "start_time": "2023-09-13T18:55:36.933039",
     "status": "completed"
    },
    "tags": []
   },
   "outputs": [],
   "source": [
    "df.head(10)"
   ]
  },
  {
   "cell_type": "code",
   "execution_count": null,
   "id": "d408d719",
   "metadata": {
    "execution": {
     "iopub.execute_input": "2023-09-13T18:55:37.146324Z",
     "iopub.status.busy": "2023-09-13T18:55:37.144933Z",
     "iopub.status.idle": "2023-09-13T18:55:37.452307Z",
     "shell.execute_reply": "2023-09-13T18:55:37.450632Z"
    },
    "papermill": {
     "duration": 0.367369,
     "end_time": "2023-09-13T18:55:37.454997",
     "exception": false,
     "start_time": "2023-09-13T18:55:37.087628",
     "status": "completed"
    },
    "tags": []
   },
   "outputs": [],
   "source": [
    "df.info()"
   ]
  },
  {
   "cell_type": "code",
   "execution_count": null,
   "id": "e4fa41f6",
   "metadata": {
    "execution": {
     "iopub.execute_input": "2023-09-13T18:55:37.912313Z",
     "iopub.status.busy": "2023-09-13T18:55:37.911775Z",
     "iopub.status.idle": "2023-09-13T18:55:38.026234Z",
     "shell.execute_reply": "2023-09-13T18:55:38.024352Z"
    },
    "papermill": {
     "duration": 0.177485,
     "end_time": "2023-09-13T18:55:38.029051",
     "exception": false,
     "start_time": "2023-09-13T18:55:37.851566",
     "status": "completed"
    },
    "tags": []
   },
   "outputs": [],
   "source": [
    "# Summary statistics for numerical variables\n",
    "df.describe().T"
   ]
  },
  {
   "cell_type": "code",
   "execution_count": null,
   "id": "38d8e05d",
   "metadata": {
    "execution": {
     "iopub.execute_input": "2023-09-13T18:55:38.146804Z",
     "iopub.status.busy": "2023-09-13T18:55:38.145535Z",
     "iopub.status.idle": "2023-09-13T18:55:38.926847Z",
     "shell.execute_reply": "2023-09-13T18:55:38.925304Z"
    },
    "papermill": {
     "duration": 0.843701,
     "end_time": "2023-09-13T18:55:38.930130",
     "exception": false,
     "start_time": "2023-09-13T18:55:38.086429",
     "status": "completed"
    },
    "scrolled": true,
    "tags": []
   },
   "outputs": [],
   "source": [
    "# Summary statistics for categorical variables\n",
    "df.describe(include='object').T"
   ]
  },
  {
   "cell_type": "code",
   "execution_count": null,
   "id": "f7b6abe6",
   "metadata": {
    "execution": {
     "iopub.execute_input": "2023-09-13T18:55:39.631822Z",
     "iopub.status.busy": "2023-09-13T18:55:39.631324Z",
     "iopub.status.idle": "2023-09-13T18:55:40.550431Z",
     "shell.execute_reply": "2023-09-13T18:55:40.548527Z"
    },
    "papermill": {
     "duration": 0.983847,
     "end_time": "2023-09-13T18:55:40.553710",
     "exception": false,
     "start_time": "2023-09-13T18:55:39.569863",
     "status": "completed"
    },
    "tags": []
   },
   "outputs": [],
   "source": [
    "# Calculating the percentage of missing values for each column\n",
    "missing_data = df.isnull().sum()\n",
    "missing_percentage = (missing_data[missing_data > 0] / df.shape[0]) * 100\n",
    "\n",
    "# Prepare values\n",
    "missing_percentage.sort_values(ascending=True, inplace=True)\n",
    "\n",
    "# Plot the barh chart\n",
    "fig, ax = plt.subplots(figsize=(15, 4))\n",
    "ax.barh(missing_percentage.index, missing_percentage, color='#ff6200')\n",
    "\n",
    "# Annotate the values and indexes\n",
    "for i, (value, name) in enumerate(zip(missing_percentage, missing_percentage.index)):\n",
    "    ax.text(value+0.5, i, f\"{value:.2f}%\", ha='left', va='center', fontweight='bold', fontsize=18, color='black')\n",
    "\n",
    "# Set x-axis limit\n",
    "ax.set_xlim([0, 40])\n",
    "\n",
    "# Add title and xlabel\n",
    "plt.title(\"Percentage of Missing Values\", fontweight='bold', fontsize=22)\n",
    "plt.xlabel('Percentages (%)', fontsize=16)\n",
    "plt.show()"
   ]
  },
  {
   "cell_type": "code",
   "execution_count": null,
   "id": "1ec499ed",
   "metadata": {
    "execution": {
     "iopub.execute_input": "2023-09-13T18:55:40.810679Z",
     "iopub.status.busy": "2023-09-13T18:55:40.810237Z",
     "iopub.status.idle": "2023-09-13T18:55:40.906637Z",
     "shell.execute_reply": "2023-09-13T18:55:40.905084Z"
    },
    "papermill": {
     "duration": 0.161893,
     "end_time": "2023-09-13T18:55:40.910774",
     "exception": false,
     "start_time": "2023-09-13T18:55:40.748881",
     "status": "completed"
    },
    "tags": []
   },
   "outputs": [],
   "source": [
    "# Extracting rows with missing values in 'CustomerID' or 'Description' columns\n",
    "df[df['CustomerID'].isnull() | df['Description'].isnull()].head()"
   ]
  },
  {
   "cell_type": "code",
   "execution_count": 11,
   "id": "9be2cf0c",
   "metadata": {
    "execution": {
     "iopub.execute_input": "2023-09-13T18:55:41.036284Z",
     "iopub.status.busy": "2023-09-13T18:55:41.035290Z",
     "iopub.status.idle": "2023-09-13T18:55:41.171478Z",
     "shell.execute_reply": "2023-09-13T18:55:41.170474Z"
    },
    "papermill": {
     "duration": 0.200287,
     "end_time": "2023-09-13T18:55:41.174169",
     "exception": false,
     "start_time": "2023-09-13T18:55:40.973882",
     "status": "completed"
    },
    "tags": []
   },
   "outputs": [],
   "source": [
    "# Removing rows with missing values in 'CustomerID' and 'Description' columns\n",
    "df = df.dropna(subset=['CustomerID', 'Description'])"
   ]
  },
  {
   "cell_type": "code",
   "execution_count": 12,
   "id": "7c7a2e89",
   "metadata": {
    "execution": {
     "iopub.execute_input": "2023-09-13T18:55:41.292632Z",
     "iopub.status.busy": "2023-09-13T18:55:41.291762Z",
     "iopub.status.idle": "2023-09-13T18:55:41.512152Z",
     "shell.execute_reply": "2023-09-13T18:55:41.510737Z"
    },
    "papermill": {
     "duration": 0.283735,
     "end_time": "2023-09-13T18:55:41.515200",
     "exception": false,
     "start_time": "2023-09-13T18:55:41.231465",
     "status": "completed"
    },
    "tags": []
   },
   "outputs": [
    {
     "data": {
      "text/plain": [
       "0"
      ]
     },
     "execution_count": 12,
     "metadata": {},
     "output_type": "execute_result"
    }
   ],
   "source": [
    "# Verifying the removal of missing values\n",
    "df.isnull().sum().sum()"
   ]
  },
  {
   "cell_type": "code",
   "execution_count": null,
   "id": "b5d579fb",
   "metadata": {
    "execution": {
     "iopub.execute_input": "2023-09-13T18:55:41.865859Z",
     "iopub.status.busy": "2023-09-13T18:55:41.865403Z",
     "iopub.status.idle": "2023-09-13T18:55:42.307526Z",
     "shell.execute_reply": "2023-09-13T18:55:42.306095Z"
    },
    "papermill": {
     "duration": 0.505381,
     "end_time": "2023-09-13T18:55:42.311188",
     "exception": false,
     "start_time": "2023-09-13T18:55:41.805807",
     "status": "completed"
    },
    "tags": []
   },
   "outputs": [],
   "source": [
    "# Finding duplicate rows (keeping all instances)\n",
    "duplicate_rows = df[df.duplicated(keep=False)]\n",
    "\n",
    "# Sorting the data by certain columns to see the duplicate rows next to each other\n",
    "duplicate_rows_sorted = duplicate_rows.sort_values(by=['InvoiceNo', 'StockCode', 'Description', 'CustomerID', 'Quantity'])\n",
    "\n",
    "# Displaying the first 10 records\n",
    "duplicate_rows_sorted.head(10)"
   ]
  },
  {
   "cell_type": "code",
   "execution_count": 14,
   "id": "82d2b098",
   "metadata": {
    "execution": {
     "iopub.execute_input": "2023-09-13T18:55:42.551671Z",
     "iopub.status.busy": "2023-09-13T18:55:42.550304Z",
     "iopub.status.idle": "2023-09-13T18:55:43.340911Z",
     "shell.execute_reply": "2023-09-13T18:55:43.339397Z"
    },
    "papermill": {
     "duration": 0.854262,
     "end_time": "2023-09-13T18:55:43.343966",
     "exception": false,
     "start_time": "2023-09-13T18:55:42.489704",
     "status": "completed"
    },
    "tags": []
   },
   "outputs": [
    {
     "name": "stdout",
     "output_type": "stream",
     "text": [
      "The dataset contains 5225 duplicate rows that need to be removed.\n"
     ]
    }
   ],
   "source": [
    "# Displaying the number of duplicate rows\n",
    "print(f\"The dataset contains {df.duplicated().sum()} duplicate rows that need to be removed.\")\n",
    "\n",
    "# Removing duplicate rows\n",
    "df.drop_duplicates(inplace=True)"
   ]
  },
  {
   "cell_type": "code",
   "execution_count": null,
   "id": "96102471",
   "metadata": {
    "execution": {
     "iopub.execute_input": "2023-09-13T18:55:43.466796Z",
     "iopub.status.busy": "2023-09-13T18:55:43.466337Z",
     "iopub.status.idle": "2023-09-13T18:55:43.475471Z",
     "shell.execute_reply": "2023-09-13T18:55:43.473542Z"
    },
    "papermill": {
     "duration": 0.073206,
     "end_time": "2023-09-13T18:55:43.478411",
     "exception": false,
     "start_time": "2023-09-13T18:55:43.405205",
     "status": "completed"
    },
    "tags": []
   },
   "outputs": [],
   "source": [
    "# Getting the number of rows in the dataframe\n",
    "df.shape[0]"
   ]
  },
  {
   "cell_type": "code",
   "execution_count": null,
   "id": "19e11e75",
   "metadata": {
    "execution": {
     "iopub.execute_input": "2023-09-13T18:55:43.869398Z",
     "iopub.status.busy": "2023-09-13T18:55:43.868914Z",
     "iopub.status.idle": "2023-09-13T18:55:44.291247Z",
     "shell.execute_reply": "2023-09-13T18:55:44.289685Z"
    },
    "papermill": {
     "duration": 0.486159,
     "end_time": "2023-09-13T18:55:44.294362",
     "exception": false,
     "start_time": "2023-09-13T18:55:43.808203",
     "status": "completed"
    },
    "tags": []
   },
   "outputs": [],
   "source": [
    "# Filter out the rows with InvoiceNo starting with \"C\" and create a new column indicating the transaction status\n",
    "df['Transaction_Status'] = np.where(df['InvoiceNo'].astype(str).str.startswith('C'), 'Cancelled', 'Completed')\n",
    "\n",
    "# Analyze the characteristics of these rows (considering the new column)\n",
    "cancelled_transactions = df[df['Transaction_Status'] == 'Cancelled']\n",
    "cancelled_transactions.describe().drop('CustomerID', axis=1)"
   ]
  },
  {
   "cell_type": "code",
   "execution_count": null,
   "id": "d9b1427b",
   "metadata": {
    "execution": {
     "iopub.execute_input": "2023-09-13T18:55:44.660637Z",
     "iopub.status.busy": "2023-09-13T18:55:44.660152Z",
     "iopub.status.idle": "2023-09-13T18:55:44.668369Z",
     "shell.execute_reply": "2023-09-13T18:55:44.666624Z"
    },
    "papermill": {
     "duration": 0.073523,
     "end_time": "2023-09-13T18:55:44.671722",
     "exception": false,
     "start_time": "2023-09-13T18:55:44.598199",
     "status": "completed"
    },
    "tags": []
   },
   "outputs": [],
   "source": [
    "# Finding the percentage of cancelled transactions\n",
    "cancelled_percentage = (cancelled_transactions.shape[0] / df.shape[0]) * 100\n",
    "\n",
    "# Printing the percentage of cancelled transactions\n",
    "print(f\"The percentage of cancelled transactions in the dataset is: {cancelled_percentage:.2f}%\")"
   ]
  },
  {
   "cell_type": "code",
   "execution_count": null,
   "id": "3c8eb6d4",
   "metadata": {
    "execution": {
     "iopub.execute_input": "2023-09-13T18:55:45.046871Z",
     "iopub.status.busy": "2023-09-13T18:55:45.046415Z",
     "iopub.status.idle": "2023-09-13T18:55:45.092406Z",
     "shell.execute_reply": "2023-09-13T18:55:45.091082Z"
    },
    "papermill": {
     "duration": 0.116377,
     "end_time": "2023-09-13T18:55:45.095198",
     "exception": false,
     "start_time": "2023-09-13T18:55:44.978821",
     "status": "completed"
    },
    "tags": []
   },
   "outputs": [],
   "source": [
    "# Finding the number of unique stock codes\n",
    "unique_stock_codes = df['StockCode'].nunique()\n",
    "\n",
    "# Printing the number of unique stock codes\n",
    "print(f\"The number of unique stock codes in the dataset is: {unique_stock_codes}\")"
   ]
  },
  {
   "cell_type": "code",
   "execution_count": null,
   "id": "af68693a",
   "metadata": {
    "execution": {
     "iopub.execute_input": "2023-09-13T18:55:45.219484Z",
     "iopub.status.busy": "2023-09-13T18:55:45.219021Z",
     "iopub.status.idle": "2023-09-13T18:55:45.778153Z",
     "shell.execute_reply": "2023-09-13T18:55:45.777153Z"
    },
    "papermill": {
     "duration": 0.623504,
     "end_time": "2023-09-13T18:55:45.780969",
     "exception": false,
     "start_time": "2023-09-13T18:55:45.157465",
     "status": "completed"
    },
    "tags": []
   },
   "outputs": [],
   "source": [
    "# Finding the top 10 most frequent stock codes\n",
    "top_10_stock_codes = df['StockCode'].value_counts(normalize=True).head(10) * 100\n",
    "\n",
    "# Plotting the top 10 most frequent stock codes\n",
    "plt.figure(figsize=(12, 5))\n",
    "top_10_stock_codes.plot(kind='barh', color='#ff6200')\n",
    "\n",
    "# Adding the percentage frequency on the bars\n",
    "for index, value in enumerate(top_10_stock_codes):\n",
    "    plt.text(value, index+0.25, f'{value:.2f}%', fontsize=10)\n",
    "\n",
    "plt.title('Top 10 Most Frequent Stock Codes')\n",
    "plt.xlabel('Percentage Frequency (%)')\n",
    "plt.ylabel('Stock Codes')\n",
    "plt.gca().invert_yaxis()\n",
    "plt.show()"
   ]
  },
  {
   "cell_type": "code",
   "execution_count": null,
   "id": "3b39dde0",
   "metadata": {
    "execution": {
     "iopub.execute_input": "2023-09-13T18:55:46.151662Z",
     "iopub.status.busy": "2023-09-13T18:55:46.150095Z",
     "iopub.status.idle": "2023-09-13T18:55:46.207574Z",
     "shell.execute_reply": "2023-09-13T18:55:46.206051Z"
    },
    "papermill": {
     "duration": 0.124219,
     "end_time": "2023-09-13T18:55:46.210927",
     "exception": false,
     "start_time": "2023-09-13T18:55:46.086708",
     "status": "completed"
    },
    "tags": []
   },
   "outputs": [],
   "source": [
    "# Finding the number of numeric characters in each unique stock code\n",
    "unique_stock_codes = df['StockCode'].unique()\n",
    "numeric_char_counts_in_unique_codes = pd.Series(unique_stock_codes).apply(lambda x: sum(c.isdigit() for c in str(x))).value_counts()\n",
    "\n",
    "# Printing the value counts for unique stock codes\n",
    "print(\"Value counts of numeric character frequencies in unique stock codes:\")\n",
    "print(\"-\"*70)\n",
    "print(numeric_char_counts_in_unique_codes)"
   ]
  },
  {
   "cell_type": "code",
   "execution_count": null,
   "id": "77541192",
   "metadata": {
    "execution": {
     "iopub.execute_input": "2023-09-13T18:55:46.457972Z",
     "iopub.status.busy": "2023-09-13T18:55:46.457500Z",
     "iopub.status.idle": "2023-09-13T18:55:46.472606Z",
     "shell.execute_reply": "2023-09-13T18:55:46.471035Z"
    },
    "papermill": {
     "duration": 0.078998,
     "end_time": "2023-09-13T18:55:46.475514",
     "exception": false,
     "start_time": "2023-09-13T18:55:46.396516",
     "status": "completed"
    },
    "tags": []
   },
   "outputs": [],
   "source": [
    "# Finding and printing the stock codes with 0 and 1 numeric characters\n",
    "anomalous_stock_codes = [code for code in unique_stock_codes if sum(c.isdigit() for c in str(code)) in (0, 1)]\n",
    "\n",
    "# Printing each stock code on a new line\n",
    "print(\"Anomalous stock codes:\")\n",
    "print(\"-\"*22)\n",
    "for code in anomalous_stock_codes:\n",
    "    print(code)"
   ]
  },
  {
   "cell_type": "code",
   "execution_count": null,
   "id": "2df9d357",
   "metadata": {
    "execution": {
     "iopub.execute_input": "2023-09-13T18:55:46.729880Z",
     "iopub.status.busy": "2023-09-13T18:55:46.729144Z",
     "iopub.status.idle": "2023-09-13T18:55:46.763749Z",
     "shell.execute_reply": "2023-09-13T18:55:46.762513Z"
    },
    "papermill": {
     "duration": 0.103691,
     "end_time": "2023-09-13T18:55:46.767256",
     "exception": false,
     "start_time": "2023-09-13T18:55:46.663565",
     "status": "completed"
    },
    "tags": []
   },
   "outputs": [],
   "source": [
    "# Calculating the percentage of records with these stock codes\n",
    "percentage_anomalous = (df['StockCode'].isin(anomalous_stock_codes).sum() / len(df)) * 100\n",
    "\n",
    "# Printing the percentage\n",
    "print(f\"The percentage of records with anomalous stock codes in the dataset is: {percentage_anomalous:.2f}%\")"
   ]
  },
  {
   "cell_type": "code",
   "execution_count": 23,
   "id": "1db59942",
   "metadata": {
    "execution": {
     "iopub.execute_input": "2023-09-13T18:55:47.269454Z",
     "iopub.status.busy": "2023-09-13T18:55:47.268999Z",
     "iopub.status.idle": "2023-09-13T18:55:47.361677Z",
     "shell.execute_reply": "2023-09-13T18:55:47.360312Z"
    },
    "papermill": {
     "duration": 0.158751,
     "end_time": "2023-09-13T18:55:47.364629",
     "exception": false,
     "start_time": "2023-09-13T18:55:47.205878",
     "status": "completed"
    },
    "tags": []
   },
   "outputs": [],
   "source": [
    "# Removing rows with anomalous stock codes from the dataset\n",
    "df = df[~df['StockCode'].isin(anomalous_stock_codes)]"
   ]
  },
  {
   "cell_type": "code",
   "execution_count": null,
   "id": "bc3dda95",
   "metadata": {
    "execution": {
     "iopub.execute_input": "2023-09-13T18:55:47.486411Z",
     "iopub.status.busy": "2023-09-13T18:55:47.485910Z",
     "iopub.status.idle": "2023-09-13T18:55:47.492752Z",
     "shell.execute_reply": "2023-09-13T18:55:47.491849Z"
    },
    "papermill": {
     "duration": 0.070041,
     "end_time": "2023-09-13T18:55:47.495154",
     "exception": false,
     "start_time": "2023-09-13T18:55:47.425113",
     "status": "completed"
    },
    "tags": []
   },
   "outputs": [],
   "source": [
    "# Getting the number of rows in the dataframe\n",
    "df.shape[0]"
   ]
  },
  {
   "cell_type": "code",
   "execution_count": null,
   "id": "ebd4eebb",
   "metadata": {
    "execution": {
     "iopub.execute_input": "2023-09-13T18:55:47.862360Z",
     "iopub.status.busy": "2023-09-13T18:55:47.861325Z",
     "iopub.status.idle": "2023-09-13T18:55:48.700021Z",
     "shell.execute_reply": "2023-09-13T18:55:48.699049Z"
    },
    "papermill": {
     "duration": 0.906535,
     "end_time": "2023-09-13T18:55:48.705153",
     "exception": false,
     "start_time": "2023-09-13T18:55:47.798618",
     "status": "completed"
    },
    "tags": []
   },
   "outputs": [],
   "source": [
    "# Calculate the occurrence of each unique description and sort them\n",
    "description_counts = df['Description'].value_counts()\n",
    "\n",
    "# Get the top 30 descriptions\n",
    "top_30_descriptions = description_counts[:30]\n",
    "\n",
    "# Plotting\n",
    "plt.figure(figsize=(12,8))\n",
    "plt.barh(top_30_descriptions.index[::-1], top_30_descriptions.values[::-1], color='#ff6200')\n",
    "\n",
    "# Adding labels and title\n",
    "plt.xlabel('Number of Occurrences')\n",
    "plt.ylabel('Description')\n",
    "plt.title('Top 30 Most Frequent Descriptions')\n",
    "\n",
    "# Show the plot\n",
    "plt.show()"
   ]
  },
  {
   "cell_type": "code",
   "execution_count": null,
   "id": "9aaa4a45",
   "metadata": {
    "execution": {
     "iopub.execute_input": "2023-09-13T18:55:48.964978Z",
     "iopub.status.busy": "2023-09-13T18:55:48.964519Z",
     "iopub.status.idle": "2023-09-13T18:55:49.041647Z",
     "shell.execute_reply": "2023-09-13T18:55:49.040636Z"
    },
    "papermill": {
     "duration": 0.14653,
     "end_time": "2023-09-13T18:55:49.044148",
     "exception": false,
     "start_time": "2023-09-13T18:55:48.897618",
     "status": "completed"
    },
    "tags": []
   },
   "outputs": [],
   "source": [
    "# Find unique descriptions containing lowercase characters\n",
    "lowercase_descriptions = df['Description'].unique()\n",
    "lowercase_descriptions = [desc for desc in lowercase_descriptions if any(char.islower() for char in desc)]\n",
    "\n",
    "# Print the unique descriptions containing lowercase characters\n",
    "print(\"The unique descriptions containing lowercase characters are:\")\n",
    "print(\"-\"*60)\n",
    "for desc in lowercase_descriptions:\n",
    "    print(desc)"
   ]
  },
  {
   "cell_type": "code",
   "execution_count": 27,
   "id": "ba3ed68d",
   "metadata": {
    "execution": {
     "iopub.execute_input": "2023-09-13T18:55:49.529855Z",
     "iopub.status.busy": "2023-09-13T18:55:49.529029Z",
     "iopub.status.idle": "2023-09-13T18:55:49.896053Z",
     "shell.execute_reply": "2023-09-13T18:55:49.894578Z"
    },
    "papermill": {
     "duration": 0.436004,
     "end_time": "2023-09-13T18:55:49.899055",
     "exception": false,
     "start_time": "2023-09-13T18:55:49.463051",
     "status": "completed"
    },
    "tags": []
   },
   "outputs": [
    {
     "name": "stdout",
     "output_type": "stream",
     "text": [
      "The percentage of records with service-related descriptions in the dataset is: 0.02%\n"
     ]
    }
   ],
   "source": [
    "service_related_descriptions = [\"Next Day Carriage\", \"High Resolution Image\"]\n",
    "\n",
    "# Calculate the percentage of records with service-related descriptions\n",
    "service_related_percentage = df[df['Description'].isin(service_related_descriptions)].shape[0] / df.shape[0] * 100\n",
    "\n",
    "# Print the percentage of records with service-related descriptions\n",
    "print(f\"The percentage of records with service-related descriptions in the dataset is: {service_related_percentage:.2f}%\")\n",
    "\n",
    "# Remove rows with service-related information in the description\n",
    "df = df[~df['Description'].isin(service_related_descriptions)]\n",
    "\n",
    "# Standardize the text to uppercase to maintain uniformity across the dataset\n",
    "df['Description'] = df['Description'].str.upper()"
   ]
  },
  {
   "cell_type": "code",
   "execution_count": null,
   "id": "30511fa4",
   "metadata": {
    "execution": {
     "iopub.execute_input": "2023-09-13T18:55:50.030364Z",
     "iopub.status.busy": "2023-09-13T18:55:50.029601Z",
     "iopub.status.idle": "2023-09-13T18:55:50.036151Z",
     "shell.execute_reply": "2023-09-13T18:55:50.035087Z"
    },
    "papermill": {
     "duration": 0.074834,
     "end_time": "2023-09-13T18:55:50.038775",
     "exception": false,
     "start_time": "2023-09-13T18:55:49.963941",
     "status": "completed"
    },
    "tags": []
   },
   "outputs": [],
   "source": [
    "# Getting the number of rows in the dataframe\n",
    "df.shape[0]"
   ]
  },
  {
   "cell_type": "code",
   "execution_count": null,
   "id": "81d5299a",
   "metadata": {
    "execution": {
     "iopub.execute_input": "2023-09-13T18:55:50.425829Z",
     "iopub.status.busy": "2023-09-13T18:55:50.425336Z",
     "iopub.status.idle": "2023-09-13T18:55:50.454505Z",
     "shell.execute_reply": "2023-09-13T18:55:50.453561Z"
    },
    "papermill": {
     "duration": 0.097583,
     "end_time": "2023-09-13T18:55:50.456794",
     "exception": false,
     "start_time": "2023-09-13T18:55:50.359211",
     "status": "completed"
    },
    "scrolled": true,
    "tags": []
   },
   "outputs": [],
   "source": [
    "df['UnitPrice'].describe()"
   ]
  },
  {
   "cell_type": "code",
   "execution_count": null,
   "id": "c08c5b8b",
   "metadata": {
    "execution": {
     "iopub.execute_input": "2023-09-13T18:55:50.724232Z",
     "iopub.status.busy": "2023-09-13T18:55:50.722914Z",
     "iopub.status.idle": "2023-09-13T18:55:50.746301Z",
     "shell.execute_reply": "2023-09-13T18:55:50.745254Z"
    },
    "papermill": {
     "duration": 0.09384,
     "end_time": "2023-09-13T18:55:50.748583",
     "exception": false,
     "start_time": "2023-09-13T18:55:50.654743",
     "status": "completed"
    },
    "tags": []
   },
   "outputs": [],
   "source": [
    "df[df['UnitPrice']==0].describe()[['Quantity']]"
   ]
  },
  {
   "cell_type": "code",
   "execution_count": 31,
   "id": "a8fd2d24",
   "metadata": {
    "execution": {
     "iopub.execute_input": "2023-09-13T18:55:51.144317Z",
     "iopub.status.busy": "2023-09-13T18:55:51.143876Z",
     "iopub.status.idle": "2023-09-13T18:55:51.197763Z",
     "shell.execute_reply": "2023-09-13T18:55:51.196171Z"
    },
    "papermill": {
     "duration": 0.125633,
     "end_time": "2023-09-13T18:55:51.201038",
     "exception": false,
     "start_time": "2023-09-13T18:55:51.075405",
     "status": "completed"
    },
    "tags": []
   },
   "outputs": [],
   "source": [
    "# Removing records with a unit price of zero to avoid potential data entry errors\n",
    "df = df[df['UnitPrice'] > 0]"
   ]
  },
  {
   "cell_type": "code",
   "execution_count": 32,
   "id": "8fb2e314",
   "metadata": {
    "execution": {
     "iopub.execute_input": "2023-09-13T18:55:51.591901Z",
     "iopub.status.busy": "2023-09-13T18:55:51.591415Z",
     "iopub.status.idle": "2023-09-13T18:55:51.597960Z",
     "shell.execute_reply": "2023-09-13T18:55:51.596352Z"
    },
    "papermill": {
     "duration": 0.075851,
     "end_time": "2023-09-13T18:55:51.600414",
     "exception": false,
     "start_time": "2023-09-13T18:55:51.524563",
     "status": "completed"
    },
    "tags": []
   },
   "outputs": [],
   "source": [
    "# Resetting the index of the cleaned dataset\n",
    "df.reset_index(drop=True, inplace=True)"
   ]
  },
  {
   "cell_type": "code",
   "execution_count": null,
   "id": "e53a70e2",
   "metadata": {
    "execution": {
     "iopub.execute_input": "2023-09-13T18:55:51.734440Z",
     "iopub.status.busy": "2023-09-13T18:55:51.733622Z",
     "iopub.status.idle": "2023-09-13T18:55:51.740743Z",
     "shell.execute_reply": "2023-09-13T18:55:51.739481Z"
    },
    "papermill": {
     "duration": 0.077309,
     "end_time": "2023-09-13T18:55:51.743412",
     "exception": false,
     "start_time": "2023-09-13T18:55:51.666103",
     "status": "completed"
    },
    "tags": []
   },
   "outputs": [],
   "source": [
    "# Getting the number of rows in the dataframe\n",
    "df.shape[0]"
   ]
  },
  {
   "cell_type": "code",
   "execution_count": 34,
   "id": "12e426e9",
   "metadata": {
    "execution": {
     "iopub.execute_input": "2023-09-13T18:55:52.674223Z",
     "iopub.status.busy": "2023-09-13T18:55:52.673743Z",
     "iopub.status.idle": "2023-09-13T18:55:53.775752Z",
     "shell.execute_reply": "2023-09-13T18:55:53.774679Z"
    },
    "papermill": {
     "duration": 1.173973,
     "end_time": "2023-09-13T18:55:53.778716",
     "exception": false,
     "start_time": "2023-09-13T18:55:52.604743",
     "status": "completed"
    },
    "tags": []
   },
   "outputs": [],
   "source": [
    "# Convert InvoiceDate to datetime type\n",
    "df['InvoiceDate'] = pd.to_datetime(df['InvoiceDate'])\n",
    "\n",
    "# Convert InvoiceDate to datetime and extract only the date\n",
    "df['InvoiceDay'] = df['InvoiceDate'].dt.date\n",
    "\n",
    "# Find the most recent purchase date for each customer\n",
    "customer_data = df.groupby('CustomerID')['InvoiceDay'].max().reset_index()\n",
    "\n",
    "# Find the most recent date in the entire dataset\n",
    "most_recent_date = df['InvoiceDay'].max()\n",
    "\n",
    "# Convert InvoiceDay to datetime type before subtraction\n",
    "customer_data['InvoiceDay'] = pd.to_datetime(customer_data['InvoiceDay'])\n",
    "most_recent_date = pd.to_datetime(most_recent_date)\n",
    "\n",
    "# Calculate the number of days since the last purchase for each customer\n",
    "customer_data['Days_Since_Last_Purchase'] = (most_recent_date - customer_data['InvoiceDay']).dt.days\n",
    "\n",
    "# Remove the InvoiceDay column\n",
    "customer_data.drop(columns=['InvoiceDay'], inplace=True)"
   ]
  },
  {
   "cell_type": "code",
   "execution_count": null,
   "id": "8e5ba7d2",
   "metadata": {
    "execution": {
     "iopub.execute_input": "2023-09-13T18:55:54.045293Z",
     "iopub.status.busy": "2023-09-13T18:55:54.043935Z",
     "iopub.status.idle": "2023-09-13T18:55:54.055494Z",
     "shell.execute_reply": "2023-09-13T18:55:54.054356Z"
    },
    "papermill": {
     "duration": 0.082016,
     "end_time": "2023-09-13T18:55:54.058539",
     "exception": false,
     "start_time": "2023-09-13T18:55:53.976523",
     "status": "completed"
    },
    "tags": []
   },
   "outputs": [],
   "source": [
    "customer_data.head()"
   ]
  },
  {
   "cell_type": "code",
   "execution_count": null,
   "id": "49c8b928",
   "metadata": {
    "execution": {
     "iopub.execute_input": "2023-09-13T18:55:54.583477Z",
     "iopub.status.busy": "2023-09-13T18:55:54.582718Z",
     "iopub.status.idle": "2023-09-13T18:55:54.700686Z",
     "shell.execute_reply": "2023-09-13T18:55:54.699510Z"
    },
    "papermill": {
     "duration": 0.187211,
     "end_time": "2023-09-13T18:55:54.703665",
     "exception": false,
     "start_time": "2023-09-13T18:55:54.516454",
     "status": "completed"
    },
    "tags": []
   },
   "outputs": [],
   "source": [
    "# Calculate the total number of transactions made by each customer\n",
    "total_transactions = df.groupby('CustomerID')['InvoiceNo'].nunique().reset_index()\n",
    "total_transactions.rename(columns={'InvoiceNo': 'Total_Transactions'}, inplace=True)\n",
    "\n",
    "# Calculate the total number of products purchased by each customer\n",
    "total_products_purchased = df.groupby('CustomerID')['Quantity'].sum().reset_index()\n",
    "total_products_purchased.rename(columns={'Quantity': 'Total_Products_Purchased'}, inplace=True)\n",
    "\n",
    "# Merge the new features into the customer_data dataframe\n",
    "customer_data = pd.merge(customer_data, total_transactions, on='CustomerID')\n",
    "customer_data = pd.merge(customer_data, total_products_purchased, on='CustomerID')\n",
    "\n",
    "# Display the first few rows of the customer_data dataframe\n",
    "customer_data.head()"
   ]
  },
  {
   "cell_type": "code",
   "execution_count": null,
   "id": "a131e718",
   "metadata": {
    "execution": {
     "iopub.execute_input": "2023-09-13T18:55:55.126657Z",
     "iopub.status.busy": "2023-09-13T18:55:55.126144Z",
     "iopub.status.idle": "2023-09-13T18:55:55.175599Z",
     "shell.execute_reply": "2023-09-13T18:55:55.173924Z"
    },
    "papermill": {
     "duration": 0.121753,
     "end_time": "2023-09-13T18:55:55.178675",
     "exception": false,
     "start_time": "2023-09-13T18:55:55.056922",
     "status": "completed"
    },
    "tags": []
   },
   "outputs": [],
   "source": [
    "# Calculate the total spend by each customer\n",
    "df['Total_Spend'] = df['UnitPrice'] * df['Quantity']\n",
    "total_spend = df.groupby('CustomerID')['Total_Spend'].sum().reset_index()\n",
    "\n",
    "# Calculate the average transaction value for each customer\n",
    "average_transaction_value = total_spend.merge(total_transactions, on='CustomerID')\n",
    "average_transaction_value['Average_Transaction_Value'] = average_transaction_value['Total_Spend'] / average_transaction_value['Total_Transactions']\n",
    "\n",
    "# Merge the new features into the customer_data dataframe\n",
    "customer_data = pd.merge(customer_data, total_spend, on='CustomerID')\n",
    "customer_data = pd.merge(customer_data, average_transaction_value[['CustomerID', 'Average_Transaction_Value']], on='CustomerID')\n",
    "\n",
    "# Display the first few rows of the customer_data dataframe\n",
    "customer_data.head()"
   ]
  },
  {
   "cell_type": "code",
   "execution_count": null,
   "id": "055ab01f",
   "metadata": {
    "execution": {
     "iopub.execute_input": "2023-09-13T18:55:55.585725Z",
     "iopub.status.busy": "2023-09-13T18:55:55.585227Z",
     "iopub.status.idle": "2023-09-13T18:55:55.764592Z",
     "shell.execute_reply": "2023-09-13T18:55:55.763336Z"
    },
    "papermill": {
     "duration": 0.251802,
     "end_time": "2023-09-13T18:55:55.767945",
     "exception": false,
     "start_time": "2023-09-13T18:55:55.516143",
     "status": "completed"
    },
    "tags": []
   },
   "outputs": [],
   "source": [
    "# Calculate the number of unique products purchased by each customer\n",
    "unique_products_purchased = df.groupby('CustomerID')['StockCode'].nunique().reset_index()\n",
    "unique_products_purchased.rename(columns={'StockCode': 'Unique_Products_Purchased'}, inplace=True)\n",
    "\n",
    "# Merge the new feature into the customer_data dataframe\n",
    "customer_data = pd.merge(customer_data, unique_products_purchased, on='CustomerID')\n",
    "\n",
    "# Display the first few rows of the customer_data dataframe\n",
    "customer_data.head()"
   ]
  },
  {
   "cell_type": "code",
   "execution_count": null,
   "id": "25325c84",
   "metadata": {
    "execution": {
     "iopub.execute_input": "2023-09-13T18:55:56.174096Z",
     "iopub.status.busy": "2023-09-13T18:55:56.172481Z",
     "iopub.status.idle": "2023-09-13T18:56:03.425830Z",
     "shell.execute_reply": "2023-09-13T18:56:03.424354Z"
    },
    "papermill": {
     "duration": 7.324267,
     "end_time": "2023-09-13T18:56:03.428738",
     "exception": false,
     "start_time": "2023-09-13T18:55:56.104471",
     "status": "completed"
    },
    "tags": []
   },
   "outputs": [],
   "source": [
    "# Extract day of week and hour from InvoiceDate\n",
    "df['Day_Of_Week'] = df['InvoiceDate'].dt.dayofweek\n",
    "df['Hour'] = df['InvoiceDate'].dt.hour\n",
    "\n",
    "# Calculate the average number of days between consecutive purchases\n",
    "days_between_purchases = df.groupby('CustomerID')['InvoiceDay'].apply(lambda x: (x.diff().dropna()).apply(lambda y: y.days))\n",
    "average_days_between_purchases = days_between_purchases.groupby('CustomerID').mean().reset_index()\n",
    "average_days_between_purchases.rename(columns={'InvoiceDay': 'Average_Days_Between_Purchases'}, inplace=True)\n",
    "\n",
    "# Find the favorite shopping day of the week\n",
    "favorite_shopping_day = df.groupby(['CustomerID', 'Day_Of_Week']).size().reset_index(name='Count')\n",
    "favorite_shopping_day = favorite_shopping_day.loc[favorite_shopping_day.groupby('CustomerID')['Count'].idxmax()][['CustomerID', 'Day_Of_Week']]\n",
    "\n",
    "# Find the favorite shopping hour of the day\n",
    "favorite_shopping_hour = df.groupby(['CustomerID', 'Hour']).size().reset_index(name='Count')\n",
    "favorite_shopping_hour = favorite_shopping_hour.loc[favorite_shopping_hour.groupby('CustomerID')['Count'].idxmax()][['CustomerID', 'Hour']]\n",
    "\n",
    "# Merge the new features into the customer_data dataframe\n",
    "customer_data = pd.merge(customer_data, average_days_between_purchases, on='CustomerID')\n",
    "customer_data = pd.merge(customer_data, favorite_shopping_day, on='CustomerID')\n",
    "customer_data = pd.merge(customer_data, favorite_shopping_hour, on='CustomerID')\n",
    "\n",
    "# Display the first few rows of the customer_data dataframe\n",
    "customer_data.head()"
   ]
  },
  {
   "cell_type": "code",
   "execution_count": null,
   "id": "517c5883",
   "metadata": {
    "execution": {
     "iopub.execute_input": "2023-09-13T18:56:03.863797Z",
     "iopub.status.busy": "2023-09-13T18:56:03.863308Z",
     "iopub.status.idle": "2023-09-13T18:56:03.942159Z",
     "shell.execute_reply": "2023-09-13T18:56:03.940931Z"
    },
    "papermill": {
     "duration": 0.150849,
     "end_time": "2023-09-13T18:56:03.944819",
     "exception": false,
     "start_time": "2023-09-13T18:56:03.793970",
     "status": "completed"
    },
    "tags": []
   },
   "outputs": [],
   "source": [
    "df['Country'].value_counts(normalize=True).head()"
   ]
  },
  {
   "cell_type": "code",
   "execution_count": null,
   "id": "076d45c4",
   "metadata": {
    "execution": {
     "iopub.execute_input": "2023-09-13T18:56:04.351247Z",
     "iopub.status.busy": "2023-09-13T18:56:04.350437Z",
     "iopub.status.idle": "2023-09-13T18:56:04.446033Z",
     "shell.execute_reply": "2023-09-13T18:56:04.445152Z"
    },
    "papermill": {
     "duration": 0.167104,
     "end_time": "2023-09-13T18:56:04.448331",
     "exception": false,
     "start_time": "2023-09-13T18:56:04.281227",
     "status": "completed"
    },
    "tags": []
   },
   "outputs": [],
   "source": [
    "# Group by CustomerID and Country to get the number of transactions per country for each customer\n",
    "customer_country = df.groupby(['CustomerID', 'Country']).size().reset_index(name='Number_of_Transactions')\n",
    "\n",
    "# Get the country with the maximum number of transactions for each customer (in case a customer has transactions from multiple countries)\n",
    "customer_main_country = customer_country.sort_values('Number_of_Transactions', ascending=False).drop_duplicates('CustomerID')\n",
    "\n",
    "# Create a binary column indicating whether the customer is from the UK or not\n",
    "customer_main_country['Is_UK'] = customer_main_country['Country'].apply(lambda x: 1 if x == 'United Kingdom' else 0)\n",
    "\n",
    "# Merge this data with our customer_data dataframe\n",
    "customer_data = pd.merge(customer_data, customer_main_country[['CustomerID', 'Is_UK']], on='CustomerID', how='left')\n",
    "\n",
    "# Display the first few rows of the customer_data dataframe\n",
    "customer_data.head()"
   ]
  },
  {
   "cell_type": "code",
   "execution_count": null,
   "id": "172aabff",
   "metadata": {
    "execution": {
     "iopub.execute_input": "2023-09-13T18:56:04.590904Z",
     "iopub.status.busy": "2023-09-13T18:56:04.589819Z",
     "iopub.status.idle": "2023-09-13T18:56:04.598639Z",
     "shell.execute_reply": "2023-09-13T18:56:04.597658Z"
    },
    "papermill": {
     "duration": 0.081428,
     "end_time": "2023-09-13T18:56:04.601164",
     "exception": false,
     "start_time": "2023-09-13T18:56:04.519736",
     "status": "completed"
    },
    "tags": []
   },
   "outputs": [],
   "source": [
    "# Display feature distribution\n",
    "customer_data['Is_UK'].value_counts()"
   ]
  },
  {
   "cell_type": "code",
   "execution_count": null,
   "id": "65a2c273",
   "metadata": {
    "execution": {
     "iopub.execute_input": "2023-09-13T18:56:05.006659Z",
     "iopub.status.busy": "2023-09-13T18:56:05.006107Z",
     "iopub.status.idle": "2023-09-13T18:56:05.199561Z",
     "shell.execute_reply": "2023-09-13T18:56:05.198182Z"
    },
    "papermill": {
     "duration": 0.264581,
     "end_time": "2023-09-13T18:56:05.202510",
     "exception": false,
     "start_time": "2023-09-13T18:56:04.937929",
     "status": "completed"
    },
    "tags": []
   },
   "outputs": [],
   "source": [
    "# Calculate the total number of transactions made by each customer\n",
    "total_transactions = df.groupby('CustomerID')['InvoiceNo'].nunique().reset_index()\n",
    "\n",
    "# Calculate the number of cancelled transactions for each customer\n",
    "cancelled_transactions = df[df['Transaction_Status'] == 'Cancelled']\n",
    "cancellation_frequency = cancelled_transactions.groupby('CustomerID')['InvoiceNo'].nunique().reset_index()\n",
    "cancellation_frequency.rename(columns={'InvoiceNo': 'Cancellation_Frequency'}, inplace=True)\n",
    "\n",
    "# Merge the Cancellation Frequency data into the customer_data dataframe\n",
    "customer_data = pd.merge(customer_data, cancellation_frequency, on='CustomerID', how='left')\n",
    "\n",
    "# Replace NaN values with 0 (for customers who have not cancelled any transaction)\n",
    "customer_data['Cancellation_Frequency'].fillna(0, inplace=True)\n",
    "\n",
    "# Calculate the Cancellation Rate\n",
    "customer_data['Cancellation_Rate'] = customer_data['Cancellation_Frequency'] / total_transactions['InvoiceNo']\n",
    "\n",
    "# Display the first few rows of the customer_data dataframe\n",
    "customer_data.head()"
   ]
  },
  {
   "cell_type": "code",
   "execution_count": null,
   "id": "c5720ea3",
   "metadata": {
    "execution": {
     "iopub.execute_input": "2023-09-13T18:56:05.600610Z",
     "iopub.status.busy": "2023-09-13T18:56:05.600175Z",
     "iopub.status.idle": "2023-09-13T18:56:06.364797Z",
     "shell.execute_reply": "2023-09-13T18:56:06.363270Z"
    },
    "papermill": {
     "duration": 0.835651,
     "end_time": "2023-09-13T18:56:06.367576",
     "exception": false,
     "start_time": "2023-09-13T18:56:05.531925",
     "status": "completed"
    },
    "tags": []
   },
   "outputs": [],
   "source": [
    "# Extract month and year from InvoiceDate\n",
    "df['Year'] = df['InvoiceDate'].dt.year\n",
    "df['Month'] = df['InvoiceDate'].dt.month\n",
    "\n",
    "# Calculate monthly spending for each customer\n",
    "monthly_spending = df.groupby(['CustomerID', 'Year', 'Month'])['Total_Spend'].sum().reset_index()\n",
    "\n",
    "# Calculate Seasonal Buying Patterns: We are using monthly frequency as a proxy for seasonal buying patterns\n",
    "seasonal_buying_patterns = monthly_spending.groupby('CustomerID')['Total_Spend'].agg(['mean', 'std']).reset_index()\n",
    "seasonal_buying_patterns.rename(columns={'mean': 'Monthly_Spending_Mean', 'std': 'Monthly_Spending_Std'}, inplace=True)\n",
    "\n",
    "# Replace NaN values in Monthly_Spending_Std with 0, implying no variability for customers with single transaction month\n",
    "seasonal_buying_patterns['Monthly_Spending_Std'].fillna(0, inplace=True)\n",
    "\n",
    "# Calculate Trends in Spending \n",
    "# We are using the slope of the linear trend line fitted to the customer's spending over time as an indicator of spending trends\n",
    "def calculate_trend(spend_data):\n",
    "    # If there are more than one data points, we calculate the trend using linear regression\n",
    "    if len(spend_data) > 1:\n",
    "        x = np.arange(len(spend_data))\n",
    "        slope, _, _, _, _ = linregress(x, spend_data)\n",
    "        return slope\n",
    "    # If there is only one data point, no trend can be calculated, hence we return 0\n",
    "    else:\n",
    "        return 0\n",
    "\n",
    "# Apply the calculate_trend function to find the spending trend for each customer\n",
    "spending_trends = monthly_spending.groupby('CustomerID')['Total_Spend'].apply(calculate_trend).reset_index()\n",
    "spending_trends.rename(columns={'Total_Spend': 'Spending_Trend'}, inplace=True)\n",
    "\n",
    "# Merge the new features into the customer_data dataframe\n",
    "customer_data = pd.merge(customer_data, seasonal_buying_patterns, on='CustomerID')\n",
    "customer_data = pd.merge(customer_data, spending_trends, on='CustomerID')\n",
    "\n",
    "# Display the first few rows of the customer_data dataframe\n",
    "customer_data.head()"
   ]
  },
  {
   "cell_type": "code",
   "execution_count": 45,
   "id": "ced9cc9e",
   "metadata": {
    "execution": {
     "iopub.execute_input": "2023-09-13T18:56:06.643919Z",
     "iopub.status.busy": "2023-09-13T18:56:06.643461Z",
     "iopub.status.idle": "2023-09-13T18:56:06.672185Z",
     "shell.execute_reply": "2023-09-13T18:56:06.670586Z"
    },
    "papermill": {
     "duration": 0.103278,
     "end_time": "2023-09-13T18:56:06.675301",
     "exception": false,
     "start_time": "2023-09-13T18:56:06.572023",
     "status": "completed"
    },
    "tags": []
   },
   "outputs": [],
   "source": [
    "# Changing the data type of 'CustomerID' to string as it is a unique identifier and not used in mathematical operations\n",
    "customer_data['CustomerID'] = customer_data['CustomerID'].astype(str)\n",
    "\n",
    "# Convert data types of columns to optimal types\n",
    "customer_data = customer_data.convert_dtypes()"
   ]
  },
  {
   "cell_type": "code",
   "execution_count": null,
   "id": "ad4a945c",
   "metadata": {
    "execution": {
     "iopub.execute_input": "2023-09-13T18:56:06.814742Z",
     "iopub.status.busy": "2023-09-13T18:56:06.814241Z",
     "iopub.status.idle": "2023-09-13T18:56:06.843552Z",
     "shell.execute_reply": "2023-09-13T18:56:06.841980Z"
    },
    "papermill": {
     "duration": 0.102034,
     "end_time": "2023-09-13T18:56:06.846461",
     "exception": false,
     "start_time": "2023-09-13T18:56:06.744427",
     "status": "completed"
    },
    "tags": []
   },
   "outputs": [],
   "source": [
    "customer_data.head(10)"
   ]
  },
  {
   "cell_type": "code",
   "execution_count": null,
   "id": "84886ab4",
   "metadata": {
    "execution": {
     "iopub.execute_input": "2023-09-13T18:56:06.986502Z",
     "iopub.status.busy": "2023-09-13T18:56:06.985715Z",
     "iopub.status.idle": "2023-09-13T18:56:07.003616Z",
     "shell.execute_reply": "2023-09-13T18:56:07.002101Z"
    },
    "papermill": {
     "duration": 0.09233,
     "end_time": "2023-09-13T18:56:07.006785",
     "exception": false,
     "start_time": "2023-09-13T18:56:06.914455",
     "status": "completed"
    },
    "tags": []
   },
   "outputs": [],
   "source": [
    "customer_data.info()"
   ]
  },
  {
   "cell_type": "code",
   "execution_count": null,
   "id": "a067ae0a",
   "metadata": {
    "execution": {
     "iopub.execute_input": "2023-09-13T18:56:07.985156Z",
     "iopub.status.busy": "2023-09-13T18:56:07.984282Z",
     "iopub.status.idle": "2023-09-13T18:56:08.635543Z",
     "shell.execute_reply": "2023-09-13T18:56:08.634016Z"
    },
    "papermill": {
     "duration": 0.728447,
     "end_time": "2023-09-13T18:56:08.639790",
     "exception": false,
     "start_time": "2023-09-13T18:56:07.911343",
     "status": "completed"
    },
    "tags": []
   },
   "outputs": [],
   "source": [
    "# Initializing the IsolationForest model with a contamination parameter of 0.05\n",
    "model = IsolationForest(contamination=0.05, random_state=0)\n",
    "\n",
    "# Fitting the model on our dataset (converting DataFrame to NumPy to avoid warning)\n",
    "customer_data['Outlier_Scores'] = model.fit_predict(customer_data.iloc[:, 1:].to_numpy())\n",
    "\n",
    "# Creating a new column to identify outliers (1 for inliers and -1 for outliers)\n",
    "customer_data['Is_Outlier'] = [1 if x == -1 else 0 for x in customer_data['Outlier_Scores']]\n",
    "\n",
    "# Display the first few rows of the customer_data dataframe\n",
    "customer_data.head()"
   ]
  },
  {
   "cell_type": "code",
   "execution_count": null,
   "id": "2a156aa4",
   "metadata": {
    "execution": {
     "iopub.execute_input": "2023-09-13T18:56:08.929583Z",
     "iopub.status.busy": "2023-09-13T18:56:08.928621Z",
     "iopub.status.idle": "2023-09-13T18:56:09.491850Z",
     "shell.execute_reply": "2023-09-13T18:56:09.490605Z"
    },
    "papermill": {
     "duration": 0.637863,
     "end_time": "2023-09-13T18:56:09.494637",
     "exception": false,
     "start_time": "2023-09-13T18:56:08.856774",
     "status": "completed"
    },
    "tags": []
   },
   "outputs": [],
   "source": [
    "# Calculate the percentage of inliers and outliers\n",
    "outlier_percentage = customer_data['Is_Outlier'].value_counts(normalize=True) * 100\n",
    "\n",
    "# Plotting the percentage of inliers and outliers\n",
    "plt.figure(figsize=(12, 4))\n",
    "outlier_percentage.plot(kind='barh', color='#ff6200')\n",
    "\n",
    "# Adding the percentage labels on the bars\n",
    "for index, value in enumerate(outlier_percentage):\n",
    "    plt.text(value, index, f'{value:.2f}%', fontsize=15)\n",
    "\n",
    "plt.title('Percentage of Inliers and Outliers')\n",
    "plt.xticks(ticks=np.arange(0, 115, 5))\n",
    "plt.xlabel('Percentage (%)')\n",
    "plt.ylabel('Is Outlier')\n",
    "plt.gca().invert_yaxis()\n",
    "plt.show()"
   ]
  },
  {
   "cell_type": "code",
   "execution_count": 50,
   "id": "4662a17f",
   "metadata": {
    "execution": {
     "iopub.execute_input": "2023-09-13T18:56:09.923849Z",
     "iopub.status.busy": "2023-09-13T18:56:09.923393Z",
     "iopub.status.idle": "2023-09-13T18:56:09.942815Z",
     "shell.execute_reply": "2023-09-13T18:56:09.941389Z"
    },
    "papermill": {
     "duration": 0.095994,
     "end_time": "2023-09-13T18:56:09.945790",
     "exception": false,
     "start_time": "2023-09-13T18:56:09.849796",
     "status": "completed"
    },
    "tags": []
   },
   "outputs": [],
   "source": [
    "# Separate the outliers for analysis\n",
    "outliers_data = customer_data[customer_data['Is_Outlier'] == 1]\n",
    "\n",
    "# Remove the outliers from the main dataset\n",
    "customer_data_cleaned = customer_data[customer_data['Is_Outlier'] == 0]\n",
    "\n",
    "# Drop the 'Outlier_Scores' and 'Is_Outlier' columns\n",
    "customer_data_cleaned = customer_data_cleaned.drop(columns=['Outlier_Scores', 'Is_Outlier'])\n",
    "\n",
    "# Reset the index of the cleaned data\n",
    "customer_data_cleaned.reset_index(drop=True, inplace=True)"
   ]
  },
  {
   "cell_type": "code",
   "execution_count": null,
   "id": "22f3e398",
   "metadata": {
    "execution": {
     "iopub.execute_input": "2023-09-13T18:56:10.234346Z",
     "iopub.status.busy": "2023-09-13T18:56:10.233852Z",
     "iopub.status.idle": "2023-09-13T18:56:10.243336Z",
     "shell.execute_reply": "2023-09-13T18:56:10.241884Z"
    },
    "papermill": {
     "duration": 0.085015,
     "end_time": "2023-09-13T18:56:10.246151",
     "exception": false,
     "start_time": "2023-09-13T18:56:10.161136",
     "status": "completed"
    },
    "tags": []
   },
   "outputs": [],
   "source": [
    "# Getting the number of rows in the cleaned customer dataset\n",
    "customer_data_cleaned.shape[0]"
   ]
  },
  {
   "cell_type": "code",
   "execution_count": null,
   "id": "1df88ef0",
   "metadata": {
    "execution": {
     "iopub.execute_input": "2023-09-13T18:56:10.680450Z",
     "iopub.status.busy": "2023-09-13T18:56:10.680025Z",
     "iopub.status.idle": "2023-09-13T18:56:11.847572Z",
     "shell.execute_reply": "2023-09-13T18:56:11.845945Z"
    },
    "papermill": {
     "duration": 1.245909,
     "end_time": "2023-09-13T18:56:11.852633",
     "exception": false,
     "start_time": "2023-09-13T18:56:10.606724",
     "status": "completed"
    },
    "tags": []
   },
   "outputs": [],
   "source": [
    "# Reset background style\n",
    "sns.set_style('whitegrid')\n",
    "\n",
    "# Calculate the correlation matrix excluding the 'CustomerID' column\n",
    "corr = customer_data_cleaned.drop(columns=['CustomerID']).corr()\n",
    "\n",
    "# Define a custom colormap\n",
    "colors = ['#ff6200', '#ffcaa8', 'white', '#ffcaa8', '#ff6200']\n",
    "my_cmap = LinearSegmentedColormap.from_list('custom_map', colors, N=256)\n",
    "\n",
    "# Create a mask to only show the lower triangle of the matrix (since it's mirrored around its \n",
    "# top-left to bottom-right diagonal)\n",
    "mask = np.zeros_like(corr)\n",
    "mask[np.triu_indices_from(mask, k=1)] = True\n",
    "\n",
    "# Plot the heatmap\n",
    "plt.figure(figsize=(12, 10))\n",
    "sns.heatmap(corr, mask=mask, cmap=my_cmap, annot=True, center=0, fmt='.2f', linewidths=2)\n",
    "plt.title('Correlation Matrix', fontsize=14)\n",
    "plt.show()"
   ]
  },
  {
   "cell_type": "code",
   "execution_count": null,
   "id": "6a2707ef",
   "metadata": {
    "execution": {
     "iopub.execute_input": "2023-09-13T18:56:12.829734Z",
     "iopub.status.busy": "2023-09-13T18:56:12.829249Z",
     "iopub.status.idle": "2023-09-13T18:56:12.875235Z",
     "shell.execute_reply": "2023-09-13T18:56:12.873917Z"
    },
    "papermill": {
     "duration": 0.130165,
     "end_time": "2023-09-13T18:56:12.878414",
     "exception": false,
     "start_time": "2023-09-13T18:56:12.748249",
     "status": "completed"
    },
    "tags": []
   },
   "outputs": [],
   "source": [
    "# Initialize the StandardScaler\n",
    "scaler = StandardScaler()\n",
    "\n",
    "# List of columns that don't need to be scaled\n",
    "columns_to_exclude = ['CustomerID', 'Is_UK', 'Day_Of_Week']\n",
    "\n",
    "# List of columns that need to be scaled\n",
    "columns_to_scale = customer_data_cleaned.columns.difference(columns_to_exclude)\n",
    "\n",
    "# Copy the cleaned dataset\n",
    "customer_data_scaled = customer_data_cleaned.copy()\n",
    "\n",
    "# Applying the scaler to the necessary columns in the dataset\n",
    "customer_data_scaled[columns_to_scale] = scaler.fit_transform(customer_data_scaled[columns_to_scale])\n",
    "\n",
    "# Display the first few rows of the scaled data\n",
    "customer_data_scaled.head()"
   ]
  },
  {
   "cell_type": "code",
   "execution_count": 54,
   "id": "4c24948d",
   "metadata": {
    "execution": {
     "iopub.execute_input": "2023-09-13T18:56:13.675938Z",
     "iopub.status.busy": "2023-09-13T18:56:13.674248Z",
     "iopub.status.idle": "2023-09-13T18:56:14.744686Z",
     "shell.execute_reply": "2023-09-13T18:56:14.743364Z"
    },
    "papermill": {
     "duration": 1.164794,
     "end_time": "2023-09-13T18:56:14.748669",
     "exception": false,
     "start_time": "2023-09-13T18:56:13.583875",
     "status": "completed"
    },
    "tags": []
   },
   "outputs": [
    {
     "data": {
      "image/png": "[encoded data removed]",
      "text/plain": [
       "<Figure size 2000x1000 with 1 Axes>"
      ]
     },
     "metadata": {},
     "output_type": "display_data"
    }
   ],
   "source": [
    "# Setting CustomerID as the index column\n",
    "customer_data_scaled.set_index('CustomerID', inplace=True)\n",
    "\n",
    "# Apply PCA\n",
    "pca = PCA().fit(customer_data_scaled)\n",
    "\n",
    "# Calculate the Cumulative Sum of the Explained Variance\n",
    "explained_variance_ratio = pca.explained_variance_ratio_\n",
    "cumulative_explained_variance = np.cumsum(explained_variance_ratio)\n",
    "\n",
    "# Set the optimal k value (based on our analysis, we can choose 6)\n",
    "optimal_k = 6\n",
    "\n",
    "# Set seaborn plot style\n",
    "sns.set(rc={'axes.facecolor': '#fcf0dc'}, style='darkgrid')\n",
    "\n",
    "# Plot the cumulative explained variance against the number of components\n",
    "plt.figure(figsize=(20, 10))\n",
    "\n",
    "# Bar chart for the explained variance of each component\n",
    "barplot = sns.barplot(x=list(range(1, len(cumulative_explained_variance) + 1)),\n",
    "                      y=explained_variance_ratio,\n",
    "                      color='#fcc36d',\n",
    "                      alpha=0.8)\n",
    "\n",
    "# Line plot for the cumulative explained variance\n",
    "lineplot, = plt.plot(range(0, len(cumulative_explained_variance)), cumulative_explained_variance,\n",
    "                     marker='o', linestyle='--', color='#ff6200', linewidth=2)\n",
    "\n",
    "# Plot optimal k value line\n",
    "optimal_k_line = plt.axvline(optimal_k - 1, color='red', linestyle='--', label=f'Optimal k value = {optimal_k}') \n",
    "\n",
    "# Set labels and title\n",
    "plt.xlabel('Number of Components', fontsize=14)\n",
    "plt.ylabel('Explained Variance', fontsize=14)\n",
    "plt.title('Cumulative Variance vs. Number of Components', fontsize=18)\n",
    "\n",
    "# Customize ticks and legend\n",
    "plt.xticks(range(0, len(cumulative_explained_variance)))\n",
    "plt.legend(handles=[barplot.patches[0], lineplot, optimal_k_line],\n",
    "           labels=['Explained Variance of Each Component', 'Cumulative Explained Variance', f'Optimal k value = {optimal_k}'],\n",
    "           loc=(0.62, 0.1),\n",
    "           frameon=True,\n",
    "           framealpha=1.0,  \n",
    "           edgecolor='#ff6200')  \n",
    "\n",
    "# Display the variance values for both graphs on the plots\n",
    "x_offset = -0.3\n",
    "y_offset = 0.01\n",
    "for i, (ev_ratio, cum_ev_ratio) in enumerate(zip(explained_variance_ratio, cumulative_explained_variance)):\n",
    "    plt.text(i, ev_ratio, f\"{ev_ratio:.2f}\", ha=\"center\", va=\"bottom\", fontsize=10)\n",
    "    if i > 0:\n",
    "        plt.text(i + x_offset, cum_ev_ratio + y_offset, f\"{cum_ev_ratio:.2f}\", ha=\"center\", va=\"bottom\", fontsize=10)\n",
    "\n",
    "plt.grid(axis='both')   \n",
    "plt.show()"
   ]
  },
  {
   "cell_type": "code",
   "execution_count": 55,
   "id": "b6a40979",
   "metadata": {
    "execution": {
     "iopub.execute_input": "2023-09-13T18:56:15.078724Z",
     "iopub.status.busy": "2023-09-13T18:56:15.077950Z",
     "iopub.status.idle": "2023-09-13T18:56:15.125937Z",
     "shell.execute_reply": "2023-09-13T18:56:15.124058Z"
    },
    "papermill": {
     "duration": 0.134162,
     "end_time": "2023-09-13T18:56:15.130666",
     "exception": false,
     "start_time": "2023-09-13T18:56:14.996504",
     "status": "completed"
    },
    "tags": []
   },
   "outputs": [],
   "source": [
    "# Creating a PCA object with 6 components\n",
    "pca = PCA(n_components=6)\n",
    "\n",
    "# Fitting and transforming the original data to the new PCA dataframe\n",
    "customer_data_pca = pca.fit_transform(customer_data_scaled)\n",
    "\n",
    "# Creating a new dataframe from the PCA dataframe, with columns labeled PC1, PC2, etc.\n",
    "customer_data_pca = pd.DataFrame(customer_data_pca, columns=['PC'+str(i+1) for i in range(pca.n_components_)])\n",
    "\n",
    "# Adding the CustomerID index back to the new PCA dataframe\n",
    "customer_data_pca.index = customer_data_scaled.index"
   ]
  },
  {
   "cell_type": "code",
   "execution_count": null,
   "id": "92d8befe",
   "metadata": {
    "execution": {
     "iopub.execute_input": "2023-09-13T18:56:15.375111Z",
     "iopub.status.busy": "2023-09-13T18:56:15.374454Z",
     "iopub.status.idle": "2023-09-13T18:56:15.393787Z",
     "shell.execute_reply": "2023-09-13T18:56:15.392114Z"
    },
    "papermill": {
     "duration": 0.103676,
     "end_time": "2023-09-13T18:56:15.396556",
     "exception": false,
     "start_time": "2023-09-13T18:56:15.292880",
     "status": "completed"
    },
    "tags": []
   },
   "outputs": [],
   "source": [
    "# Displaying the resulting dataframe based on the PCs\n",
    "customer_data_pca.head()"
   ]
  },
  {
   "cell_type": "code",
   "execution_count": null,
   "id": "07765030",
   "metadata": {
    "execution": {
     "iopub.execute_input": "2023-09-13T18:56:15.729201Z",
     "iopub.status.busy": "2023-09-13T18:56:15.728748Z",
     "iopub.status.idle": "2023-09-13T18:56:15.866316Z",
     "shell.execute_reply": "2023-09-13T18:56:15.864907Z"
    },
    "papermill": {
     "duration": 0.223598,
     "end_time": "2023-09-13T18:56:15.869472",
     "exception": false,
     "start_time": "2023-09-13T18:56:15.645874",
     "status": "completed"
    },
    "tags": []
   },
   "outputs": [],
   "source": [
    "# Define a function to highlight the top 3 absolute values in each column of a dataframe\n",
    "def highlight_top3(column):\n",
    "    top3 = column.abs().nlargest(3).index\n",
    "    return ['background-color:  #ffeacc' if i in top3 else '' for i in column.index]\n",
    "\n",
    "# Create the PCA component DataFrame and apply the highlighting function\n",
    "pc_df = pd.DataFrame(pca.components_.T, columns=['PC{}'.format(i+1) for i in range(pca.n_components_)],  \n",
    "                     index=customer_data_scaled.columns)\n",
    "\n",
    "pc_df.style.apply(highlight_top3, axis=0)"
   ]
  },
  {
   "cell_type": "code",
   "execution_count": null,
   "id": "0f4f9237",
   "metadata": {
    "execution": {
     "iopub.execute_input": "2023-09-13T18:56:17.355606Z",
     "iopub.status.busy": "2023-09-13T18:56:17.354156Z",
     "iopub.status.idle": "2023-09-13T18:56:35.749684Z",
     "shell.execute_reply": "2023-09-13T18:56:35.748092Z"
    },
    "papermill": {
     "duration": 18.47856,
     "end_time": "2023-09-13T18:56:35.752589",
     "exception": false,
     "start_time": "2023-09-13T18:56:17.274029",
     "status": "completed"
    },
    "tags": []
   },
   "outputs": [],
   "source": [
    "# Set plot style, and background color\n",
    "sns.set(style='darkgrid', rc={'axes.facecolor': '#fcf0dc'})\n",
    "\n",
    "# Set the color palette for the plot\n",
    "sns.set_palette(['#ff6200'])\n",
    "\n",
    "# Instantiate the clustering model with the specified parameters\n",
    "km = KMeans(init='k-means++', n_init=10, max_iter=100, random_state=0)\n",
    "\n",
    "# Create a figure and axis with the desired size\n",
    "fig, ax = plt.subplots(figsize=(12, 5))\n",
    "\n",
    "# Instantiate the KElbowVisualizer with the model and range of k values, and disable the timing plot\n",
    "visualizer = KElbowVisualizer(km, k=(2, 15), timings=False, ax=ax)\n",
    "\n",
    "# Fit the data to the visualizer\n",
    "visualizer.fit(customer_data_pca)\n",
    "\n",
    "# Finalize and render the figure\n",
    "visualizer.show();"
   ]
  },
  {
   "cell_type": "code",
   "execution_count": 59,
   "id": "24135687",
   "metadata": {
    "execution": {
     "iopub.execute_input": "2023-09-13T18:56:36.587814Z",
     "iopub.status.busy": "2023-09-13T18:56:36.586138Z",
     "iopub.status.idle": "2023-09-13T18:56:36.606741Z",
     "shell.execute_reply": "2023-09-13T18:56:36.605442Z"
    },
    "papermill": {
     "duration": 0.105705,
     "end_time": "2023-09-13T18:56:36.609774",
     "exception": false,
     "start_time": "2023-09-13T18:56:36.504069",
     "status": "completed"
    },
    "tags": []
   },
   "outputs": [],
   "source": [
    "def silhouette_analysis(df, start_k, stop_k, figsize=(15, 16)):\n",
    "    \"\"\"\n",
    "    Perform Silhouette analysis for a range of k values and visualize the results.\n",
    "    \"\"\"\n",
    "\n",
    "    # Set the size of the figure\n",
    "    plt.figure(figsize=figsize)\n",
    "\n",
    "    # Create a grid with (stop_k - start_k + 1) rows and 2 columns\n",
    "    grid = gridspec.GridSpec(stop_k - start_k + 1, 2)\n",
    "\n",
    "    # Assign the first plot to the first row and both columns\n",
    "    first_plot = plt.subplot(grid[0, :])\n",
    "\n",
    "    # First plot: Silhouette scores for different k values\n",
    "    sns.set_palette(['darkorange'])\n",
    "\n",
    "    silhouette_scores = []\n",
    "\n",
    "    # Iterate through the range of k values\n",
    "    for k in range(start_k, stop_k + 1):\n",
    "        km = KMeans(n_clusters=k, init='k-means++', n_init=10, max_iter=100, random_state=0)\n",
    "        km.fit(df)\n",
    "        labels = km.predict(df)\n",
    "        score = silhouette_score(df, labels)\n",
    "        silhouette_scores.append(score)\n",
    "\n",
    "    best_k = start_k + silhouette_scores.index(max(silhouette_scores))\n",
    "\n",
    "    plt.plot(range(start_k, stop_k + 1), silhouette_scores, marker='o')\n",
    "    plt.xticks(range(start_k, stop_k + 1))\n",
    "    plt.xlabel('Number of clusters (k)')\n",
    "    plt.ylabel('Silhouette score')\n",
    "    plt.title('Average Silhouette Score for Different k Values', fontsize=15)\n",
    "\n",
    "    # Add the optimal k value text to the plot\n",
    "    optimal_k_text = f'The k value with the highest Silhouette score is: {best_k}'\n",
    "    plt.text(10, 0.23, optimal_k_text, fontsize=12, verticalalignment='bottom', \n",
    "             horizontalalignment='left', bbox=dict(facecolor='#fcc36d', edgecolor='#ff6200', boxstyle='round, pad=0.5'))\n",
    "             \n",
    "\n",
    "    # Second plot (subplot): Silhouette plots for each k value\n",
    "    colors = sns.color_palette(\"bright\")\n",
    "\n",
    "    for i in range(start_k, stop_k + 1):    \n",
    "        km = KMeans(n_clusters=i, init='k-means++', n_init=10, max_iter=100, random_state=0)\n",
    "        row_idx, col_idx = divmod(i - start_k, 2)\n",
    "\n",
    "        # Assign the plots to the second, third, and fourth rows\n",
    "        ax = plt.subplot(grid[row_idx + 1, col_idx])\n",
    "\n",
    "        visualizer = SilhouetteVisualizer(km, colors=colors, ax=ax)\n",
    "        visualizer.fit(df)\n",
    "\n",
    "        # Add the Silhouette score text to the plot\n",
    "        score = silhouette_score(df, km.labels_)\n",
    "        ax.text(0.97, 0.02, f'Silhouette Score: {score:.2f}', fontsize=12, \\\n",
    "                ha='right', transform=ax.transAxes, color='red')\n",
    "\n",
    "        ax.set_title(f'Silhouette Plot for {i} Clusters', fontsize=15)\n",
    "\n",
    "    plt.tight_layout()\n",
    "    plt.show()"
   ]
  },
  {
   "cell_type": "code",
   "execution_count": null,
   "id": "c971cf0b",
   "metadata": {
    "execution": {
     "iopub.execute_input": "2023-09-13T18:56:36.778885Z",
     "iopub.status.busy": "2023-09-13T18:56:36.778437Z",
     "iopub.status.idle": "2023-09-13T18:57:25.393121Z",
     "shell.execute_reply": "2023-09-13T18:57:25.391751Z"
    },
    "papermill": {
     "duration": 48.801465,
     "end_time": "2023-09-13T18:57:25.496889",
     "exception": false,
     "start_time": "2023-09-13T18:56:36.695424",
     "status": "completed"
    },
    "tags": []
   },
   "outputs": [],
   "source": [
    "silhouette_analysis(customer_data_pca, 3, 12, figsize=(20, 50))"
   ]
  },
  {
   "cell_type": "code",
   "execution_count": 61,
   "id": "d9c3238b",
   "metadata": {
    "execution": {
     "iopub.execute_input": "2023-09-13T18:57:26.439735Z",
     "iopub.status.busy": "2023-09-13T18:57:26.439286Z",
     "iopub.status.idle": "2023-09-13T18:57:27.749123Z",
     "shell.execute_reply": "2023-09-13T18:57:27.747632Z"
    },
    "papermill": {
     "duration": 1.408565,
     "end_time": "2023-09-13T18:57:27.752578",
     "exception": false,
     "start_time": "2023-09-13T18:57:26.344013",
     "status": "completed"
    },
    "tags": []
   },
   "outputs": [],
   "source": [
    "# Apply KMeans clustering using the optimal k\n",
    "kmeans = KMeans(n_clusters=3, init='k-means++', n_init=10, max_iter=100, random_state=0)\n",
    "kmeans.fit(customer_data_pca)\n",
    "\n",
    "# Get the frequency of each cluster\n",
    "cluster_frequencies = Counter(kmeans.labels_)\n",
    "\n",
    "# Create a mapping from old labels to new labels based on frequency\n",
    "label_mapping = {label: new_label for new_label, (label, _) in \n",
    "                 enumerate(cluster_frequencies.most_common())}\n",
    "\n",
    "# Reverse the mapping to assign labels as per your criteria\n",
    "label_mapping = {v: k for k, v in {2: 1, 1: 0, 0: 2}.items()}\n",
    "\n",
    "# Apply the mapping to get the new labels\n",
    "new_labels = np.array([label_mapping[label] for label in kmeans.labels_])\n",
    "\n",
    "# Append the new cluster labels back to the original dataset\n",
    "customer_data_cleaned['cluster'] = new_labels\n",
    "\n",
    "# Append the new cluster labels to the PCA version of the dataset\n",
    "customer_data_pca['cluster'] = new_labels"
   ]
  },
  {
   "cell_type": "code",
   "execution_count": null,
   "id": "b4ac520a",
   "metadata": {
    "execution": {
     "iopub.execute_input": "2023-09-13T18:57:27.944662Z",
     "iopub.status.busy": "2023-09-13T18:57:27.944175Z",
     "iopub.status.idle": "2023-09-13T18:57:27.971220Z",
     "shell.execute_reply": "2023-09-13T18:57:27.969815Z"
    },
    "papermill": {
     "duration": 0.12762,
     "end_time": "2023-09-13T18:57:27.973860",
     "exception": false,
     "start_time": "2023-09-13T18:57:27.846240",
     "status": "completed"
    },
    "tags": []
   },
   "outputs": [],
   "source": [
    "# Display the first few rows of the original dataframe\n",
    "customer_data_cleaned.head()"
   ]
  },
  {
   "cell_type": "code",
   "execution_count": 63,
   "id": "a9423286",
   "metadata": {
    "execution": {
     "iopub.execute_input": "2023-09-13T18:57:28.929668Z",
     "iopub.status.busy": "2023-09-13T18:57:28.929182Z",
     "iopub.status.idle": "2023-09-13T18:57:28.935084Z",
     "shell.execute_reply": "2023-09-13T18:57:28.933575Z"
    },
    "papermill": {
     "duration": 0.104131,
     "end_time": "2023-09-13T18:57:28.937718",
     "exception": false,
     "start_time": "2023-09-13T18:57:28.833587",
     "status": "completed"
    },
    "tags": []
   },
   "outputs": [],
   "source": [
    "# Setting up the color scheme for the clusters (RGB order)\n",
    "colors = ['#e8000b', '#1ac938', '#023eff']"
   ]
  },
  {
   "cell_type": "code",
   "execution_count": null,
   "id": "9f33fd0a",
   "metadata": {
    "execution": {
     "iopub.execute_input": "2023-09-13T18:57:29.125920Z",
     "iopub.status.busy": "2023-09-13T18:57:29.125458Z",
     "iopub.status.idle": "2023-09-13T18:57:29.492966Z",
     "shell.execute_reply": "2023-09-13T18:57:29.491448Z"
    },
    "papermill": {
     "duration": 0.482553,
     "end_time": "2023-09-13T18:57:29.514649",
     "exception": false,
     "start_time": "2023-09-13T18:57:29.032096",
     "status": "completed"
    },
    "tags": []
   },
   "outputs": [],
   "source": [
    "# Create separate data frames for each cluster\n",
    "cluster_0 = customer_data_pca[customer_data_pca['cluster'] == 0]\n",
    "cluster_1 = customer_data_pca[customer_data_pca['cluster'] == 1]\n",
    "cluster_2 = customer_data_pca[customer_data_pca['cluster'] == 2]\n",
    "\n",
    "# Create a 3D scatter plot\n",
    "fig = go.Figure()\n",
    "\n",
    "# Add data points for each cluster separately and specify the color\n",
    "fig.add_trace(go.Scatter3d(x=cluster_0['PC1'], y=cluster_0['PC2'], z=cluster_0['PC3'], \n",
    "                           mode='markers', marker=dict(color=colors[0], size=5, opacity=0.4), name='Cluster 0'))\n",
    "fig.add_trace(go.Scatter3d(x=cluster_1['PC1'], y=cluster_1['PC2'], z=cluster_1['PC3'], \n",
    "                           mode='markers', marker=dict(color=colors[1], size=5, opacity=0.4), name='Cluster 1'))\n",
    "fig.add_trace(go.Scatter3d(x=cluster_2['PC1'], y=cluster_2['PC2'], z=cluster_2['PC3'], \n",
    "                           mode='markers', marker=dict(color=colors[2], size=5, opacity=0.4), name='Cluster 2'))\n",
    "\n",
    "# Set the title and layout details\n",
    "fig.update_layout(\n",
    "    title=dict(text='3D Visualization of Customer Clusters in PCA Space', x=0.5),\n",
    "    scene=dict(\n",
    "        xaxis=dict(backgroundcolor=\"#fcf0dc\", gridcolor='white', title='PC1'),\n",
    "        yaxis=dict(backgroundcolor=\"#fcf0dc\", gridcolor='white', title='PC2'),\n",
    "        zaxis=dict(backgroundcolor=\"#fcf0dc\", gridcolor='white', title='PC3'),\n",
    "    ),\n",
    "    width=900,\n",
    "    height=800\n",
    ")\n",
    "\n",
    "# Show the plot\n",
    "fig.show()"
   ]
  },
  {
   "cell_type": "code",
   "execution_count": null,
   "id": "9c617e70",
   "metadata": {
    "execution": {
     "iopub.execute_input": "2023-09-13T18:57:30.546832Z",
     "iopub.status.busy": "2023-09-13T18:57:30.546342Z",
     "iopub.status.idle": "2023-09-13T18:57:30.936893Z",
     "shell.execute_reply": "2023-09-13T18:57:30.935086Z"
    },
    "papermill": {
     "duration": 0.55019,
     "end_time": "2023-09-13T18:57:30.939968",
     "exception": false,
     "start_time": "2023-09-13T18:57:30.389778",
     "status": "completed"
    },
    "tags": []
   },
   "outputs": [],
   "source": [
    "# Calculate the percentage of customers in each cluster\n",
    "cluster_percentage = (customer_data_pca['cluster'].value_counts(normalize=True) * 100).reset_index()\n",
    "cluster_percentage.columns = ['Cluster', 'Percentage']\n",
    "cluster_percentage.sort_values(by='Cluster', inplace=True)\n",
    "\n",
    "# Create a horizontal bar plot\n",
    "plt.figure(figsize=(10, 4))\n",
    "sns.barplot(x='Percentage', y='Cluster', data=cluster_percentage, orient='h', palette=colors)\n",
    "\n",
    "# Adding percentages on the bars\n",
    "for index, value in enumerate(cluster_percentage['Percentage']):\n",
    "    plt.text(value+0.5, index, f'{value:.2f}%')\n",
    "\n",
    "plt.title('Distribution of Customers Across Clusters', fontsize=14)\n",
    "plt.xticks(ticks=np.arange(0, 50, 5))\n",
    "plt.xlabel('Percentage (%)')\n",
    "\n",
    "# Show the plot\n",
    "plt.show()"
   ]
  },
  {
   "cell_type": "code",
   "execution_count": null,
   "id": "6f85d0d4",
   "metadata": {
    "execution": {
     "iopub.execute_input": "2023-09-13T18:57:32.190291Z",
     "iopub.status.busy": "2023-09-13T18:57:32.189173Z",
     "iopub.status.idle": "2023-09-13T18:57:32.580751Z",
     "shell.execute_reply": "2023-09-13T18:57:32.579218Z"
    },
    "papermill": {
     "duration": 0.555512,
     "end_time": "2023-09-13T18:57:32.585864",
     "exception": false,
     "start_time": "2023-09-13T18:57:32.030352",
     "status": "completed"
    },
    "tags": []
   },
   "outputs": [],
   "source": [
    "# Compute number of customers\n",
    "num_observations = len(customer_data_pca)\n",
    "\n",
    "# Separate the features and the cluster labels\n",
    "X = customer_data_pca.drop('cluster', axis=1)\n",
    "clusters = customer_data_pca['cluster']\n",
    "\n",
    "# Compute the metrics\n",
    "sil_score = silhouette_score(X, clusters)\n",
    "calinski_score = calinski_harabasz_score(X, clusters)\n",
    "davies_score = davies_bouldin_score(X, clusters)\n",
    "\n",
    "# Create a table to display the metrics and the number of observations\n",
    "table_data = [\n",
    "    [\"Number of Observations\", num_observations],\n",
    "    [\"Silhouette Score\", sil_score],\n",
    "    [\"Calinski Harabasz Score\", calinski_score],\n",
    "    [\"Davies Bouldin Score\", davies_score]\n",
    "]\n",
    "\n",
    "# Print the table\n",
    "print(tabulate(table_data, headers=[\"Metric\", \"Value\"], tablefmt='pretty'))"
   ]
  },
  {
   "cell_type": "code",
   "execution_count": null,
   "id": "f43ebcad",
   "metadata": {
    "execution": {
     "iopub.execute_input": "2023-09-13T18:57:34.533624Z",
     "iopub.status.busy": "2023-09-13T18:57:34.533186Z",
     "iopub.status.idle": "2023-09-13T18:57:35.888310Z",
     "shell.execute_reply": "2023-09-13T18:57:35.887395Z"
    },
    "papermill": {
     "duration": 1.51518,
     "end_time": "2023-09-13T18:57:35.893853",
     "exception": false,
     "start_time": "2023-09-13T18:57:34.378673",
     "status": "completed"
    },
    "tags": []
   },
   "outputs": [],
   "source": [
    "# Setting 'CustomerID' column as index and assigning it to a new dataframe\n",
    "df_customer = customer_data_cleaned.set_index('CustomerID')\n",
    "\n",
    "# Standardize the data (excluding the cluster column)\n",
    "scaler = StandardScaler()\n",
    "df_customer_standardized = scaler.fit_transform(df_customer.drop(columns=['cluster'], axis=1))\n",
    "\n",
    "# Create a new dataframe with standardized values and add the cluster column back\n",
    "df_customer_standardized = pd.DataFrame(df_customer_standardized, columns=df_customer.columns[:-1], index=df_customer.index)\n",
    "df_customer_standardized['cluster'] = df_customer['cluster']\n",
    "\n",
    "# Calculate the centroids of each cluster\n",
    "cluster_centroids = df_customer_standardized.groupby('cluster').mean()\n",
    "\n",
    "# Function to create a radar chart\n",
    "def create_radar_chart(ax, angles, data, color, cluster):\n",
    "    # Plot the data and fill the area\n",
    "    ax.fill(angles, data, color=color, alpha=0.4)\n",
    "    ax.plot(angles, data, color=color, linewidth=2, linestyle='solid')\n",
    "    \n",
    "    # Add a title\n",
    "    ax.set_title(f'Cluster {cluster}', size=20, color=color, y=1.1)\n",
    "\n",
    "# Set data\n",
    "labels=np.array(cluster_centroids.columns)\n",
    "num_vars = len(labels)\n",
    "\n",
    "# Compute angle of each axis\n",
    "angles = np.linspace(0, 2 * np.pi, num_vars, endpoint=False).tolist()\n",
    "\n",
    "# The plot is circular, so we need to \"complete the loop\" and append the start to the end\n",
    "labels = np.concatenate((labels, [labels[0]]))\n",
    "angles += angles[:1]\n",
    "\n",
    "# Initialize the figure\n",
    "fig, ax = plt.subplots(figsize=(20, 10), subplot_kw=dict(polar=True), nrows=1, ncols=3)\n",
    "\n",
    "# Create radar chart for each cluster\n",
    "for i, color in enumerate(colors):\n",
    "    data = cluster_centroids.loc[i].tolist()\n",
    "    data += data[:1]  # Complete the loop\n",
    "    create_radar_chart(ax[i], angles, data, color, i)\n",
    "\n",
    "# Add input data\n",
    "ax[0].set_xticks(angles[:-1])\n",
    "ax[0].set_xticklabels(labels[:-1])\n",
    "\n",
    "ax[1].set_xticks(angles[:-1])\n",
    "ax[1].set_xticklabels(labels[:-1])\n",
    "\n",
    "ax[2].set_xticks(angles[:-1])\n",
    "ax[2].set_xticklabels(labels[:-1])\n",
    "\n",
    "# Add a grid\n",
    "ax[0].grid(color='grey', linewidth=0.5)\n",
    "\n",
    "# Display the plot\n",
    "plt.tight_layout()\n",
    "plt.show()"
   ]
  },
  {
   "cell_type": "code",
   "execution_count": null,
   "id": "ae23c83d",
   "metadata": {
    "execution": {
     "iopub.execute_input": "2023-09-13T18:57:37.372756Z",
     "iopub.status.busy": "2023-09-13T18:57:37.370325Z",
     "iopub.status.idle": "2023-09-13T18:57:55.778051Z",
     "shell.execute_reply": "2023-09-13T18:57:55.776510Z"
    },
    "papermill": {
     "duration": 18.726601,
     "end_time": "2023-09-13T18:57:55.787377",
     "exception": false,
     "start_time": "2023-09-13T18:57:37.060776",
     "status": "completed"
    },
    "tags": []
   },
   "outputs": [],
   "source": [
    "# Plot histograms for each feature segmented by the clusters\n",
    "features = customer_data_cleaned.columns[1:-1]\n",
    "clusters = customer_data_cleaned['cluster'].unique()\n",
    "clusters.sort()\n",
    "\n",
    "# Setting up the subplots\n",
    "n_rows = len(features)\n",
    "n_cols = len(clusters)\n",
    "fig, axes = plt.subplots(n_rows, n_cols, figsize=(20, 3*n_rows))\n",
    "\n",
    "# Plotting histograms\n",
    "for i, feature in enumerate(features):\n",
    "    for j, cluster in enumerate(clusters):\n",
    "        data = customer_data_cleaned[customer_data_cleaned['cluster'] == cluster][feature]\n",
    "        axes[i, j].hist(data, bins=20, color=colors[j], edgecolor='w', alpha=0.7)\n",
    "        axes[i, j].set_title(f'Cluster {cluster} - {feature}', fontsize=15)\n",
    "        axes[i, j].set_xlabel('')\n",
    "        axes[i, j].set_ylabel('')\n",
    "\n",
    "# Adjusting layout to prevent overlapping\n",
    "plt.tight_layout()\n",
    "plt.show()"
   ]
  },
  {
   "cell_type": "code",
   "execution_count": 69,
   "id": "74145455",
   "metadata": {
    "execution": {
     "iopub.execute_input": "2023-09-13T18:57:57.519306Z",
     "iopub.status.busy": "2023-09-13T18:57:57.518771Z",
     "iopub.status.idle": "2023-09-13T18:58:09.057539Z",
     "shell.execute_reply": "2023-09-13T18:58:09.055963Z"
    },
    "papermill": {
     "duration": 11.716599,
     "end_time": "2023-09-13T18:58:09.060770",
     "exception": false,
     "start_time": "2023-09-13T18:57:57.344171",
     "status": "completed"
    },
    "tags": []
   },
   "outputs": [],
   "source": [
    "# Step 1: Extract the CustomerIDs of the outliers and remove their transactions from the main dataframe\n",
    "outlier_customer_ids = outliers_data['CustomerID'].astype('float').unique()\n",
    "df_filtered = df[~df['CustomerID'].isin(outlier_customer_ids)]\n",
    "\n",
    "# Step 2: Ensure consistent data type for CustomerID across both dataframes before merging\n",
    "customer_data_cleaned['CustomerID'] = customer_data_cleaned['CustomerID'].astype('float')\n",
    "\n",
    "# Step 3: Merge the transaction data with the customer data to get the cluster information for each transaction\n",
    "merged_data = df_filtered.merge(customer_data_cleaned[['CustomerID', 'cluster']], on='CustomerID', how='inner')\n",
    "\n",
    "# Step 4: Identify the top 10 best-selling products in each cluster based on the total quantity sold\n",
    "best_selling_products = merged_data.groupby(['cluster', 'StockCode', 'Description'])['Quantity'].sum().reset_index()\n",
    "best_selling_products = best_selling_products.sort_values(by=['cluster', 'Quantity'], ascending=[True, False])\n",
    "top_products_per_cluster = best_selling_products.groupby('cluster').head(10)\n",
    "\n",
    "# Step 5: Create a record of products purchased by each customer in each cluster\n",
    "customer_purchases = merged_data.groupby(['CustomerID', 'cluster', 'StockCode'])['Quantity'].sum().reset_index()\n",
    "\n",
    "# Step 6: Generate recommendations for each customer in each cluster\n",
    "recommendations = []\n",
    "for cluster in top_products_per_cluster['cluster'].unique():\n",
    "    top_products = top_products_per_cluster[top_products_per_cluster['cluster'] == cluster]\n",
    "    customers_in_cluster = customer_data_cleaned[customer_data_cleaned['cluster'] == cluster]['CustomerID']\n",
    "    \n",
    "    for customer in customers_in_cluster:\n",
    "        # Identify products already purchased by the customer\n",
    "        customer_purchased_products = customer_purchases[(customer_purchases['CustomerID'] == customer) & \n",
    "                                                         (customer_purchases['cluster'] == cluster)]['StockCode'].tolist()\n",
    "        \n",
    "        # Find top 3 products in the best-selling list that the customer hasn't purchased yet\n",
    "        top_products_not_purchased = top_products[~top_products['StockCode'].isin(customer_purchased_products)]\n",
    "        top_3_products_not_purchased = top_products_not_purchased.head(3)\n",
    "        \n",
    "        # Append the recommendations to the list\n",
    "        recommendations.append([customer, cluster] + top_3_products_not_purchased[['StockCode', 'Description']].values.flatten().tolist())\n",
    "\n",
    "# Step 7: Create a dataframe from the recommendations list and merge it with the original customer data\n",
    "recommendations_df = pd.DataFrame(recommendations, columns=['CustomerID', 'cluster', 'Rec1_StockCode', 'Rec1_Description', \\\n",
    "                                                 'Rec2_StockCode', 'Rec2_Description', 'Rec3_StockCode', 'Rec3_Description'])\n",
    "customer_data_with_recommendations = customer_data_cleaned.merge(recommendations_df, on=['CustomerID', 'cluster'], how='right')"
   ]
  },
  {
   "cell_type": "code",
   "execution_count": null,
   "id": "5a101bd3",
   "metadata": {
    "execution": {
     "iopub.execute_input": "2023-09-13T18:58:09.412938Z",
     "iopub.status.busy": "2023-09-13T18:58:09.412479Z",
     "iopub.status.idle": "2023-09-13T18:58:09.433911Z",
     "shell.execute_reply": "2023-09-13T18:58:09.432358Z"
    },
    "papermill": {
     "duration": 0.199648,
     "end_time": "2023-09-13T18:58:09.436781",
     "exception": false,
     "start_time": "2023-09-13T18:58:09.237133",
     "status": "completed"
    },
    "tags": []
   },
   "outputs": [],
   "source": [
    "# Display 10 random rows from the customer_data_with_recommendations dataframe\n",
    "customer_data_with_recommendations.set_index('CustomerID').iloc[:, -6:].sample(10, random_state=0)"
   ]
  }
 ],
 "kernelspec": {
  "display_name": "Python 3",
  "language": "python",
  "name": "python3"
 },
 "language_info": {
  "codemirror_mode": {
   "name": "ipython",
   "version": 3
  },
  "file_extension": ".py",
  "mimetype": "text/x-python",
  "name": "python",
  "nbconvert_exporter": "python",
  "pygments_lexer": "ipython3",
  "version": "3.6.4"
 },
 "metadata": {
  "kernelspec": {
   "display_name": "Python 3",
   "language": "python",
   "name": "python3"
  },
  "language_info": {
   "codemirror_mode": {
    "name": "ipython",
    "version": 3
   },
   "file_extension": ".py",
   "mimetype": "text/x-python",
   "name": "python",
   "nbconvert_exporter": "python",
   "pygments_lexer": "ipython3",
   "version": "3.10.12"
  },
  "papermill": {
   "default_parameters": {},
   "duration": 168.09806,
   "end_time": "2023-09-13T18:58:13.013821",
   "environment_variables": {},
   "exception": null,
   "input_path": "__notebook__.ipynb",
   "output_path": "__notebook__.ipynb",
   "parameters": {},
   "start_time": "2023-09-13T18:55:24.915761",
   "version": "2.4.0"
  }
 },
 "nbformat": 4,
 "nbformat_minor": 5
}
